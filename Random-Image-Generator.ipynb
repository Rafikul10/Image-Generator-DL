{
 "cells": [
  {
   "cell_type": "code",
   "execution_count": 11,
   "id": "383c3145",
   "metadata": {},
   "outputs": [],
   "source": [
    "import numpy as np\n",
    "import tensorflow as tf\n",
    "from tensorflow.keras.preprocessing.image import load_img, img_to_array,array_to_img\n",
    "from tensorflow.keras.preprocessing.image import ImageDataGenerator\n",
    "import matplotlib.pyplot as plt\n",
    "import requests"
   ]
  },
  {
   "cell_type": "code",
   "execution_count": 10,
   "id": "b63ecd97",
   "metadata": {},
   "outputs": [],
   "source": [
    "#data argumentation with help of keras and python \n",
    "datagen = ImageDataGenerator(\n",
    "            rotation_range=40,\n",
    "            width_shift_range=0.2,\n",
    "            height_shift_range=0.2,\n",
    "            shear_range=0.2,\n",
    "            zoom_range=0.2,\n",
    "            horizontal_flip=True,\n",
    "            fill_mode=\"nearest\")\n",
    "img= load_img(\"seborrhea-in-cats.jpg\")\n",
    "x = img_to_array(img)\n",
    "x= x.reshape((1,)+ x.shape)\n",
    "\n",
    "i=0\n",
    "for batch in datagen.flow(x, batch_size=1,\n",
    "                         save_to_dir=\"cnn\",save_prefix=\"cat\",save_format=\"jpeg\"):\n",
    "    i += 1\n",
    "    if i > 20:\n",
    "        break"
   ]
  }
 ],
 "metadata": {
  "kernelspec": {
   "display_name": "Python 3 (ipykernel)",
   "language": "python",
   "name": "python3"
  },
  "language_info": {
   "codemirror_mode": {
    "name": "ipython",
    "version": 3
   },
   "file_extension": ".py",
   "mimetype": "text/x-python",
   "name": "python",
   "nbconvert_exporter": "python",
   "pygments_lexer": "ipython3",
   "version": "3.9.12"
  }
 },
 "nbformat": 4,
 "nbformat_minor": 5
}
